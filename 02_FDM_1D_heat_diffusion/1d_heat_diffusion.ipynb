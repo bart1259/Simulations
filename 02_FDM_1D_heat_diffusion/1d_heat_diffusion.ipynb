{
 "cells": [
  {
   "cell_type": "markdown",
   "metadata": {},
   "source": [
    "# 1D Heat Diffusion using Finite Difference Method\n",
    "\n",
    "Heat diffusion is defined by the partial differential equation (known as the heat equation):\n",
    "\n",
    "$$\\frac{\\partial u}{\\partial t} = \\alpha \\frac{\\partial^2 u}{\\partial x^2}$$\n",
    "\n",
    "To solve this numerically, we will use the finite difrence method. First we discretize the above equation in space and time.\n",
    "\n",
    "$$\\frac{u_{new} - u_{old}}{\\Delta t} = \\alpha \\frac{u_{old\\_left} - 2u_{old} - u_{old\\_right}}{\\Delta x^2}$$\n",
    "\n",
    "Solving explicitly might result in stability issues, so we will use the implicit method. The discretized equation is:\n",
    "\n",
    "$$\\frac{u_{new} - u_{old}}{\\Delta t} = \\alpha \\frac{u_{new\\_left} - 2u_{new} - u_{new\\_right}}{\\Delta x^2}$$\n",
    "\n",
    "The problem with this, is that we do not have direct access to $u_{new}$, $u_{new\\_left}$ and $u_{new\\_right}$. However, we can solve this as a system of linear equations. The above equation can be written as:"
   ]
  },
  {
   "cell_type": "markdown",
   "metadata": {},
   "source": [
    "$$u_{old} = u_{new} - \\alpha \\Delta t \\frac{u_{new\\_left} - 2u_{new} - u_{new\\_right}}{\\Delta x^2}$$"
   ]
  },
  {
   "cell_type": "markdown",
   "metadata": {},
   "source": [
    "$$u_{old} = - \\frac{\\alpha \\Delta t}{\\Delta x^2}u_{new\\_left} + (1 + \\frac{2 \\alpha \\Delta t}{\\Delta x^2}u_{new}) + \\frac{\\alpha \\Delta t}{\\Delta x^2}u_{new\\_right}   $$"
   ]
  },
  {
   "cell_type": "code",
   "execution_count": null,
   "metadata": {},
   "outputs": [],
   "source": [
    "# Generate saw tooth wave\n",
    "import numpy as np\n",
    "from matplotlib import pyplot as plt\n",
    "LENGTH = 100\n",
    "\n",
    "def sawtooth_wave(samples, period, amplitude):\n",
    "    sawtooth = []\n",
    "    for i in range(samples):\n",
    "        sawtooth.append(amplitude * (i % period) / period)\n",
    "    return sawtooth\n",
    "\n",
    "temp = sawtooth_wave(LENGTH, 25, 1)\n",
    "\n",
    "plt.plot(temp)"
   ]
  },
  {
   "cell_type": "code",
   "execution_count": null,
   "metadata": {},
   "outputs": [],
   "source": [
    "DELTA_T = 0.03\n",
    "DELTA_X = 0.1\n",
    "CONDUCTIVITY = 0.01\n",
    "\n",
    "def step(temp):\n",
    "    alpha = CONDUCTIVITY * DELTA_T / (DELTA_X ** 2)\n",
    "    # Create matrix A and vector B\n",
    "    A = np.zeros((LENGTH, LENGTH))\n",
    "    B = np.zeros(LENGTH)\n",
    "\n",
    "    # Set boundary conditions\n",
    "    A[0][0] = 1\n",
    "    A[LENGTH-1][LENGTH-1] = 1\n",
    "    B[0] = 0\n",
    "    B[LENGTH-1] = 1\n",
    "\n",
    "    # Set the rest of the matrix\n",
    "    for i in range(1, LENGTH-1):\n",
    "        A[i][i-1] = -alpha\n",
    "        A[i][i] = 1 + 2 * alpha\n",
    "        A[i][i+1] = -alpha\n",
    "        B[i] = temp[i]\n",
    "\n",
    "    # Solve the system\n",
    "    solution = np.linalg.solve(A, B)\n",
    "\n",
    "    return solution\n",
    "\n",
    "SAVE_FREQUENCY = 50\n",
    "historical_temps = []\n",
    "\n",
    "for i in range(10000):\n",
    "    if i % SAVE_FREQUENCY == 0:\n",
    "        historical_temps.append(temp)\n",
    "    temp = step(temp)\n",
    "\n",
    "plt.plot(temp)"
   ]
  },
  {
   "cell_type": "code",
   "execution_count": null,
   "metadata": {},
   "outputs": [],
   "source": [
    "# Plot all historical temperatures varying the color from blue to red\n",
    "for i in range(len(historical_temps)):\n",
    "    plt.plot(historical_temps[i], color=(0, 0, i / len(historical_temps)))"
   ]
  },
  {
   "cell_type": "code",
   "execution_count": 10,
   "metadata": {},
   "outputs": [],
   "source": [
    "# Create an animation\n",
    "import os\n",
    "os.makedirs(\"output\", exist_ok=True)\n",
    "\n",
    "for i in range(len(historical_temps)):\n",
    "    plt.figure(figsize=(10, 10))\n",
    "    plt.plot(historical_temps[i], color=\"black\")\n",
    "    plt.title(f\"Step {i * SAVE_FREQUENCY}\")\n",
    "    plt.ylabel(\"Temperature\")\n",
    "    plt.xlabel(\"Position\")\n",
    "    plt.tight_layout()\n",
    "    plt.savefig(f\"output/{i:03d}.png\")\n",
    "    plt.close()"
   ]
  },
  {
   "cell_type": "code",
   "execution_count": null,
   "metadata": {},
   "outputs": [],
   "source": [
    "# Use ffmpeg to create a video. Start with making the intro using only the first frame for 3 seconds\n",
    "!ffmpeg -y -framerate 0.2 -i output/000.png -c:v libx264 -r 30 -pix_fmt yuv420p output/intro.mp4\n",
    "# Then create the video\n",
    "!ffmpeg -y -framerate 30 -i output/%03d.png -c:v libx264 -r 30 -pix_fmt yuv420p output/animation.mp4\n",
    "# Concatenate the intro and the video\n",
    "!ffmpeg -y -i output/intro.mp4 -i output/animation.mp4 -filter_complex \"[0:v] [1:v] concat=n=2:v=1 [v]\" -map \"[v]\" output/output.mp4"
   ]
  }
 ],
 "metadata": {
  "kernelspec": {
   "display_name": ".venv",
   "language": "python",
   "name": "python3"
  },
  "language_info": {
   "codemirror_mode": {
    "name": "ipython",
    "version": 3
   },
   "file_extension": ".py",
   "mimetype": "text/x-python",
   "name": "python",
   "nbconvert_exporter": "python",
   "pygments_lexer": "ipython3",
   "version": "3.11.4"
  }
 },
 "nbformat": 4,
 "nbformat_minor": 2
}
