{
 "cells": [
  {
   "cell_type": "code",
   "execution_count": null,
   "metadata": {},
   "outputs": [],
   "source": [
    "import sys\n",
    "sys.path.append('../')\n",
    "\n",
    "import json\n",
    "\n",
    "from src.config import FluidSimConfig2D\n",
    "\n",
    "sample_json = \"\"\"\n",
    "{\n",
    "    \"simulation_time\": 10.0,\n",
    "    \"time_step\": 0.01,\n",
    "    \"kernel_radius\": 5.0,\n",
    "    \"domain_size\": [60.0, 60.0],\n",
    "    \"bounds_factor\": -0.6,\n",
    "    \"rest_density\": 0.05,\n",
    "    \"gravity\": 1.0,\n",
    "    \"viscosity_multiplier\": 0.1,\n",
    "    \"pressure_multiplier\": 1000.0,\n",
    "    \"spawn_groups\": [\n",
    "        {\n",
    "            \"num_particles\": 500,\n",
    "            \"spawn_time\": 0.0,\n",
    "            \"spawn_position\": [30.0, 30.0],\n",
    "            \"spawn_bounds\": [60.0, 60.0],\n",
    "            \"velocity\": [0.0, 0.0],\n",
    "            \"spawn_pattern\": \"uniform_random\"\n",
    "        }\n",
    "    ]\n",
    "}\n",
    "\"\"\"\n"
   ]
  },
  {
   "cell_type": "code",
   "execution_count": null,
   "metadata": {},
   "outputs": [],
   "source": [
    "# Create a config object from the JSON string\n",
    "config_dict = json.loads(sample_json)\n",
    "config = FluidSimConfig2D(**config_dict)\n",
    "# Print the config object with some formatting\n",
    "print(config)"
   ]
  },
  {
   "cell_type": "code",
   "execution_count": null,
   "metadata": {},
   "outputs": [],
   "source": []
  }
 ],
 "metadata": {
  "kernelspec": {
   "display_name": ".venv",
   "language": "python",
   "name": "python3"
  },
  "language_info": {
   "codemirror_mode": {
    "name": "ipython",
    "version": 3
   },
   "file_extension": ".py",
   "mimetype": "text/x-python",
   "name": "python",
   "nbconvert_exporter": "python",
   "pygments_lexer": "ipython3",
   "version": "3.11.4"
  }
 },
 "nbformat": 4,
 "nbformat_minor": 2
}
