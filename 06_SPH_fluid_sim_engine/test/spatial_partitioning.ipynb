{
 "cells": [
  {
   "cell_type": "code",
   "execution_count": null,
   "metadata": {},
   "outputs": [],
   "source": [
    "import numpy as np\n",
    "\n",
    "points = np.random.rand(100, 2)"
   ]
  },
  {
   "cell_type": "code",
   "execution_count": null,
   "metadata": {},
   "outputs": [],
   "source": [
    "from scipy.spatial import KDTree\n",
    "import matplotlib.pyplot as plt\n",
    "import jax.numpy as jnp\n",
    "\n",
    "MAX_NEIGHBORS = 20\n",
    "SEARCH_RADIUS = 0.1\n",
    "POINT = np.array([0.5, 0.5])\n",
    "\n",
    "tree = KDTree(points)\n",
    "neighbor_indexes = tree.query_ball_tree(tree, r=SEARCH_RADIUS)\n",
    "neighborhood_matrix = -np.ones((len(points), MAX_NEIGHBORS), dtype=int)\n",
    "for i, neighbors in enumerate(neighbor_indexes):\n",
    "    neighborhood_matrix[i, :min(MAX_NEIGHBORS, len(neighbors))] = neighbors[:MAX_NEIGHBORS]\n",
    "neighborhood_matrix = jnp.array(neighborhood_matrix)"
   ]
  },
  {
   "cell_type": "code",
   "execution_count": null,
   "metadata": {},
   "outputs": [],
   "source": [
    "neighborhood_matrix"
   ]
  },
  {
   "cell_type": "code",
   "execution_count": null,
   "metadata": {},
   "outputs": [],
   "source": [
    "# Alternatively create a grid of bins of size SEARCH_RADIUS\n",
    "DOMAIN_SIZE = 1.0\n",
    "GRID_SIZE = int(DOMAIN_SIZE / SEARCH_RADIUS) + 1\n",
    "grid = np.zeros((GRID_SIZE, GRID_SIZE), dtype=object)\n",
    "for i in range(GRID_SIZE):\n",
    "    for j in range(GRID_SIZE):\n",
    "        grid[i, j] = []\n",
    "\n",
    "for p in points:\n",
    "    grid_x = int(p[0] // SEARCH_RADIUS)\n",
    "    grid_y = int(p[1] // SEARCH_RADIUS)\n",
    "    grid[grid_x, grid_y].append(p)\n",
    "\n",
    "# Find the bin of the query point\n",
    "for i in range(GRID_SIZE):\n",
    "    for j in range(GRID_SIZE):\n",
    "        random_color = np.random.rand(3,)\n",
    "        cell_points = grid[i, j]\n",
    "        if len(cell_points) > 0:\n",
    "            plt.scatter(np.array(cell_points)[:, 0], np.array(cell_points)[:, 1], c=random_color, s=5, alpha=0.7)\n",
    "\n",
    "plt.show()"
   ]
  },
  {
   "cell_type": "code",
   "execution_count": null,
   "metadata": {},
   "outputs": [],
   "source": [
    "def get_neighborhood_mask(points, domain_size, search_radius):\n",
    "    # 1st, create the cells of the grid\n",
    "    grid_size = int(domain_size / search_radius) + 1\n",
    "    grid = np.zeros((grid_size, grid_size), dtype=object)\n",
    "    for i in range(grid_size):\n",
    "        for j in range(grid_size):\n",
    "            grid[i, j] = []\n",
    "\n",
    "    point_cell_map = {}\n",
    "    for idx, p in enumerate(points):\n",
    "        grid_x = int(p[0] // search_radius)\n",
    "        grid_y = int(p[1] // search_radius)\n",
    "        grid[grid_x, grid_y].append(idx)\n",
    "        point_cell_map[idx] = (grid_x, grid_y)\n",
    "\n",
    "    for i in range(grid_size):\n",
    "        for j in range(grid_size):\n",
    "            grid[i, j] = np.array(grid[i, j])\n",
    "\n",
    "    # Compute neighborhood mask\n",
    "    neighborhood_mask = np.zeros((len(points), len(points)), dtype=bool)\n",
    "    for idx, p in enumerate(points):\n",
    "        cell_x, cell_y = point_cell_map[idx]\n",
    "        for i in range(cell_x - 1, cell_x + 2):\n",
    "            for j in range(cell_y - 1, cell_y + 2):\n",
    "                # Add points in the neighboring cells\n",
    "                neighbors = grid[i, j]\n",
    "                if len(neighbors) == 0:\n",
    "                    continue\n",
    "                neighborhood_mask[idx, neighbors] = True\n",
    "\n",
    "    return neighborhood_mask\n",
    "\n",
    "neighborhood_mask = get_neighborhood_mask(points, DOMAIN_SIZE, SEARCH_RADIUS)\n",
    "NEIGHBOR_INDEX = 1\n",
    "plt.scatter(points[:, 0], points[:, 1], c='blue', label='Points', s=5, alpha=0.7)\n",
    "plt.scatter(points[neighborhood_mask[NEIGHBOR_INDEX], 0], points[neighborhood_mask[NEIGHBOR_INDEX], 1], c='green', label='Neighbors', s=5, alpha=0.7)\n",
    "plt.scatter(points[NEIGHBOR_INDEX, 0], points[NEIGHBOR_INDEX, 1], c='red', label='Query Point')"
   ]
  },
  {
   "cell_type": "code",
   "execution_count": null,
   "metadata": {},
   "outputs": [],
   "source": []
  },
  {
   "cell_type": "code",
   "execution_count": null,
   "metadata": {},
   "outputs": [],
   "source": []
  }
 ],
 "metadata": {
  "kernelspec": {
   "display_name": ".venv",
   "language": "python",
   "name": "python3"
  },
  "language_info": {
   "codemirror_mode": {
    "name": "ipython",
    "version": 3
   },
   "file_extension": ".py",
   "mimetype": "text/x-python",
   "name": "python",
   "nbconvert_exporter": "python",
   "pygments_lexer": "ipython3",
   "version": "3.11.4"
  }
 },
 "nbformat": 4,
 "nbformat_minor": 2
}
