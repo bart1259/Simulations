{
 "cells": [
  {
   "cell_type": "code",
   "execution_count": null,
   "metadata": {},
   "outputs": [],
   "source": [
    "import sys\n",
    "sys.path.append(\"..\")\n",
    "\n",
    "import jax\n",
    "import jax.numpy as jnp\n",
    "\n",
    "from src.kernel_functions import *"
   ]
  },
  {
   "cell_type": "code",
   "execution_count": null,
   "metadata": {},
   "outputs": [],
   "source": [
    "arr = jnp.array([[x, 0] for x in jnp.linspace(-1.25, 1.25, 1000)])\n",
    "test_point = jnp.array([[0, 0] for _ in range(1000)])\n",
    "h = 1.0\n",
    "kernel_function_poly6_jit = jax.jit(kernel_function_poly6)\n",
    "kernel_function_gradient_spiky_jit = jax.jit(kernel_function_gradient_spiky)\n",
    "kernel_function_viscosity_laplacian_jit = jax.jit(kernel_function_viscosity_laplacian)\n",
    "\n",
    "kernel_values = kernel_function_poly6_jit(arr, test_point, h)\n",
    "print(kernel_values.shape)\n",
    "kernel_gradient_values = kernel_function_gradient_spiky_jit(arr, test_point, h)\n",
    "print(kernel_gradient_values.shape)\n",
    "kernel_viscosity_laplacian_values = kernel_function_viscosity_laplacian_jit(arr, test_point, h)\n",
    "print(kernel_viscosity_laplacian_values.shape)\n",
    "\n",
    "import matplotlib.pyplot as plt\n",
    "\n",
    "fig, axs = plt.subplots(1, 3, figsize=(12, 4))\n",
    "axs[0].set_title(\"Kernel Density Function\")\n",
    "axs[0].plot(arr[:, 0], kernel_values, label=\"Kernel Function\", color=\"blue\")\n",
    "axs[1].set_title(\"Kernel Gradient Function\")\n",
    "axs[1].plot(arr[:, 0], kernel_gradient_values[:, 0], label=\"Kernel Gradient\", color=\"orange\")\n",
    "axs[2].set_title(\"Kernel Viscosity Laplacian Function\")\n",
    "axs[2].plot(arr[:, 0], kernel_viscosity_laplacian_values, label=\"Kernel Viscosity Laplacian\", color=\"green\")"
   ]
  },
  {
   "cell_type": "code",
   "execution_count": null,
   "metadata": {},
   "outputs": [],
   "source": []
  }
 ],
 "metadata": {
  "kernelspec": {
   "display_name": ".venv",
   "language": "python",
   "name": "python3"
  },
  "language_info": {
   "codemirror_mode": {
    "name": "ipython",
    "version": 3
   },
   "file_extension": ".py",
   "mimetype": "text/x-python",
   "name": "python",
   "nbconvert_exporter": "python",
   "pygments_lexer": "ipython3",
   "version": "3.11.4"
  }
 },
 "nbformat": 4,
 "nbformat_minor": 2
}
