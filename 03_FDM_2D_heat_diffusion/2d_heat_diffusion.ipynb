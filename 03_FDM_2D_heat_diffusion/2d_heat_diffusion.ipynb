{
 "cells": [
  {
   "cell_type": "markdown",
   "metadata": {},
   "source": [
    "# 2D Heat Diffusion using Finite Difference Method\n",
    "\n",
    "Similarly to the 1D case, the 2D heat equation is given by:\n",
    "\n",
    "$$\\frac{\\partial u}{\\partial t} = \\alpha (\\frac{\\partial^2 u}{\\partial x^2} + \\frac{\\partial^2 u}{\\partial y^2})$$\n",
    "\n",
    "Discretized in position and time the equation is:\n",
    "$$\\frac{u_{new} - u_{old}}{\\Delta t} = \\alpha (\\frac{u_{old\\_left} - 2u_{old} + u_{old\\_right}}{\\Delta x^2} + \\frac{u_{old\\_down} - 2u_{old} + u_{old\\_up}}{\\Delta x^2})$$\n",
    "\n",
    "To improve stability, we instead use the implicit method, which is given by:\n",
    "\n",
    "$$\\frac{u_{new} - u_{old}}{\\Delta t} = \\alpha (\\frac{u_{new\\_left} - 2u_{new} + u_{new\\_right}}{\\Delta x^2} + \\frac{u_{new\\_down} - 2u_{new} + u_{new\\_up}}{\\Delta x^2})$$\n"
   ]
  },
  {
   "cell_type": "markdown",
   "metadata": {},
   "source": [
    "$$u_{old} = u_{new} - \\alpha \\Delta t (\\frac{u_{new\\_left} - 2u_{new} + u_{new\\_right}}{\\Delta x^2} + \\frac{u_{new\\_down} - 2u_{new} + u_{new\\_up}}{\\Delta x^2})$$"
   ]
  },
  {
   "cell_type": "markdown",
   "metadata": {},
   "source": [
    "let $r = \\alpha \\Delta t / \\Delta x^2$\n",
    "\n",
    "$$u_{old} = u_{new} - r u_{new\\_left} + 2r u_{new} - r u_{new\\_right} - r u_{new\\_down} + 2r u_{new} - r u_{new\\_up}  $$\n",
    "$$u_{old} = (1 + 4r) u_{new} - r u_{new\\_left} - r u_{new\\_right} - r u_{new\\_down} - r u_{new\\_up}  $$"
   ]
  },
  {
   "cell_type": "code",
   "execution_count": null,
   "metadata": {},
   "outputs": [],
   "source": [
    "# Start with inital conditions\n",
    "import numpy as np\n",
    "from matplotlib import pyplot as plt\n",
    "\n",
    "GRID_SIZE = 50\n",
    "\n",
    "\n",
    "def initalize_checkerboard(temps, checker_size=10):\n",
    "    for i in range(0, GRID_SIZE, checker_size):\n",
    "        for j in range(0, GRID_SIZE, checker_size):\n",
    "            if (i // checker_size + j // checker_size) % 2 == 0:\n",
    "                temps[i:i+checker_size, j:j+checker_size] = 1.0\n",
    "\n",
    "temps = np.zeros((GRID_SIZE, GRID_SIZE))\n",
    "initalize_checkerboard(temps)\n",
    "plt.imshow(temps, cmap='hot', interpolation='nearest', origin='lower')"
   ]
  },
  {
   "cell_type": "code",
   "execution_count": 2,
   "metadata": {},
   "outputs": [],
   "source": [
    "boundary_mask = np.zeros((GRID_SIZE, GRID_SIZE), dtype=bool)\n",
    "boundary_mask[0, :] = True\n",
    "boundary_mask[-1, :] = True\n",
    "boundary_mask[:, 0] = True\n",
    "boundary_mask[:, -1] = True\n",
    "\n",
    "# Set boundary conditions to be the same as the initial conditions for boundary cells\n",
    "boundary_conditions = temps.copy()"
   ]
  },
  {
   "cell_type": "code",
   "execution_count": 3,
   "metadata": {},
   "outputs": [],
   "source": [
    "def get_id_from_cell(i, j):\n",
    "    return i * GRID_SIZE + j\n",
    "\n",
    "def get_cell_from_id(id):\n",
    "    return id // GRID_SIZE, id % GRID_SIZE"
   ]
  },
  {
   "cell_type": "code",
   "execution_count": null,
   "metadata": {},
   "outputs": [],
   "source": [
    "from tqdm import tqdm\n",
    "from time import time\n",
    "\n",
    "DELTA_T = 0.1\n",
    "DELTA_X = 1.0\n",
    "CONDUCTIVITY = 0.01\n",
    "\n",
    "TIME_STEPS = 100\n",
    "\n",
    "# Interestingly, the matrix A is the same for every time step and will be the same of node sizes/conductivity or the time step doesn't change\n",
    "def compute_A():\n",
    "    r = CONDUCTIVITY * DELTA_T / DELTA_X**2\n",
    "    A = np.zeros((GRID_SIZE**2, GRID_SIZE**2))\n",
    "    for i in range(GRID_SIZE):\n",
    "        for j in range(GRID_SIZE):\n",
    "            if boundary_mask[i][j] == True:\n",
    "                id = get_id_from_cell(i, j)\n",
    "                A[id, id] = 1\n",
    "            else:\n",
    "                id = get_id_from_cell(i, j)\n",
    "                A[id, id] = 1 + 4 * r\n",
    "                A[id, get_id_from_cell(i-1, j)] = -r\n",
    "                A[id, get_id_from_cell(i+1, j)] = -r\n",
    "                A[id, get_id_from_cell(i, j-1)] = -r\n",
    "                A[id, get_id_from_cell(i, j+1)] = -r\n",
    "\n",
    "    return A\n",
    "\n",
    "def step_slow(temps, A):\n",
    "    # Create a matrix to represent the system of equations\n",
    "    b = np.zeros(GRID_SIZE**2)\n",
    "\n",
    "    for i in range(GRID_SIZE):\n",
    "        for j in range(GRID_SIZE):\n",
    "            if boundary_mask[i][j] == True:\n",
    "                id = get_id_from_cell(i, j)\n",
    "                b[id] = boundary_conditions[i, j]\n",
    "\n",
    "            else:\n",
    "                id = get_id_from_cell(i, j)\n",
    "                b[id] = temps[i, j]\n",
    "\n",
    "    # This is the slow part!\n",
    "    new_temps = np.linalg.solve(A, b).reshape(GRID_SIZE, GRID_SIZE)\n",
    "    return new_temps\n",
    "\n",
    "temps = np.zeros((GRID_SIZE, GRID_SIZE))\n",
    "initalize_checkerboard(temps)\n",
    "A = compute_A()\n",
    "\n",
    "start_time = time()\n",
    "for i in tqdm(range(TIME_STEPS)):\n",
    "    temps = step_slow(temps, A)\n",
    "print(\"Time taken: \", time() - start_time)\n",
    "\n",
    "ground_truth = temps.copy()\n",
    "\n",
    "plt.imshow(temps, cmap='hot', interpolation='nearest', origin='lower')"
   ]
  },
  {
   "cell_type": "markdown",
   "metadata": {},
   "source": [
    "# Too slow\n",
    "Using a traditional solver, it takes too long. Instead, we will use an iterative solver to solver our sparse matrix.\n",
    "\n",
    "SciPy has many options so we will figure out which one is best for our problem."
   ]
  },
  {
   "cell_type": "code",
   "execution_count": null,
   "metadata": {},
   "outputs": [],
   "source": [
    "from tqdm import tqdm\n",
    "from time import time\n",
    "from scipy.sparse.linalg import bicg, bicgstab, cg, cgs, gmres, lgmres, minres, qmr, gcrotmk, tfqmr\n",
    "\n",
    "solve_time = 0\n",
    "\n",
    "def step(temps, A, solver=cg):\n",
    "    global solve_time\n",
    "    # Create a matrix to represent the system of equations\n",
    "    b = np.zeros(GRID_SIZE**2)\n",
    "\n",
    "    for i in range(GRID_SIZE):\n",
    "        for j in range(GRID_SIZE):\n",
    "            if boundary_mask[i][j] == True:\n",
    "                id = get_id_from_cell(i, j)\n",
    "                b[id] = boundary_conditions[i, j]\n",
    "\n",
    "            else:\n",
    "                id = get_id_from_cell(i, j)\n",
    "                b[id] = temps[i, j]\n",
    "\n",
    "    # Use a sparse solver\n",
    "    start_time = time()\n",
    "    new_temps = solver(A, b)[0].reshape(GRID_SIZE, GRID_SIZE)\n",
    "    solve_time = time() - start_time\n",
    "\n",
    "    return new_temps\n",
    "\n",
    "solvers = [cg, bicg, bicgstab, cgs, gmres, lgmres, minres, qmr, gcrotmk, tfqmr]\n",
    "data = []\n",
    "\n",
    "for solver in solvers:\n",
    "    temps = np.zeros((GRID_SIZE, GRID_SIZE))\n",
    "    initalize_checkerboard(temps)\n",
    "    A = compute_A()\n",
    "\n",
    "    solve_times = []\n",
    "    for i in tqdm(range(TIME_STEPS)):\n",
    "        temps = step(temps, A, solver)\n",
    "        solve_times.append(solve_time)\n",
    "\n",
    "    data.append({\n",
    "        \"Solver\": solver.__name__,\n",
    "        \"Time\": sum(solve_times) / len(solve_times),\n",
    "        \"Error\": np.linalg.norm(ground_truth - temps)\n",
    "    })"
   ]
  },
  {
   "cell_type": "code",
   "execution_count": null,
   "metadata": {},
   "outputs": [],
   "source": [
    "import pandas as pd\n",
    "df = pd.DataFrame(data)\n",
    "plt.scatter(df[\"Time\"], df[\"Error\"], label=df[\"Solver\"])\n",
    "plt.xlabel(\"Time taken per iteration\")\n",
    "plt.ylabel(\"Error\")\n",
    "for i, row in df.iterrows():\n",
    "    plt.text(row[\"Time\"], row[\"Error\"], row[\"Solver\"])\n",
    "df"
   ]
  },
  {
   "cell_type": "code",
   "execution_count": 53,
   "metadata": {},
   "outputs": [],
   "source": [
    "BEST_SOLVER = bicgstab"
   ]
  },
  {
   "cell_type": "code",
   "execution_count": null,
   "metadata": {},
   "outputs": [],
   "source": [
    "# Create animation\n",
    "SAVE_FREQUENCY = 50\n",
    "historical_temps = []\n",
    "\n",
    "temps = np.zeros((GRID_SIZE, GRID_SIZE))\n",
    "initalize_checkerboard(temps)\n",
    "\n",
    "A = compute_A()\n",
    "\n",
    "for i in tqdm(range(20_000)):\n",
    "    if i % SAVE_FREQUENCY == 0:\n",
    "        historical_temps.append(temps.copy())\n",
    "    temps = step(temps, A, BEST_SOLVER)\n",
    "\n",
    "plt.imshow(temps, cmap='hot', interpolation='nearest', origin='lower')"
   ]
  },
  {
   "cell_type": "code",
   "execution_count": null,
   "metadata": {},
   "outputs": [],
   "source": [
    "# Create an animation\n",
    "import os\n",
    "os.makedirs(\"output\", exist_ok=True)\n",
    "\n",
    "for i in tqdm(range(len(historical_temps))):\n",
    "    plt.figure(figsize=(10, 10))\n",
    "    plt.imshow(historical_temps[i], cmap='gray', interpolation='nearest', origin='lower')\n",
    "    plt.title(f\"Step {i * SAVE_FREQUENCY}\")\n",
    "    plt.tight_layout()\n",
    "    plt.savefig(f\"output/{i:04d}.png\")\n",
    "    plt.close()"
   ]
  },
  {
   "cell_type": "code",
   "execution_count": null,
   "metadata": {},
   "outputs": [],
   "source": [
    "# Use ffmpeg to create a video. Start with making the intro using only the first frame for 3 seconds\n",
    "!ffmpeg -y -framerate 0.3 -i output/0000.png -c:v libx264 -r 30 -pix_fmt yuv420p output/intro.mp4\n",
    "# Then create the video\n",
    "!ffmpeg -y -framerate 30 -i output/%04d.png -c:v libx264 -r 30 -pix_fmt yuv420p output/animation.mp4\n",
    "# Concatenate the intro and the video\n",
    "!ffmpeg -y -i output/intro.mp4 -i output/animation.mp4 -filter_complex \"[0:v] [1:v] concat=n=2:v=1 [v]\" -map \"[v]\" output/output.mp4"
   ]
  },
  {
   "cell_type": "code",
   "execution_count": null,
   "metadata": {},
   "outputs": [],
   "source": []
  }
 ],
 "metadata": {
  "kernelspec": {
   "display_name": ".venv",
   "language": "python",
   "name": "python3"
  },
  "language_info": {
   "codemirror_mode": {
    "name": "ipython",
    "version": 3
   },
   "file_extension": ".py",
   "mimetype": "text/x-python",
   "name": "python",
   "nbconvert_exporter": "python",
   "pygments_lexer": "ipython3",
   "version": "3.11.4"
  }
 },
 "nbformat": 4,
 "nbformat_minor": 2
}
